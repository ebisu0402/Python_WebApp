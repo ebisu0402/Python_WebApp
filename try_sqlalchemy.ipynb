{
 "cells": [
  {
   "cell_type": "code",
   "execution_count": 1,
   "metadata": {},
   "outputs": [],
   "source": [
    "from sqlalchemy import create_engine\n",
    "from sqlalchemy.orm import Session\n",
    "from test_model import Person\n"
   ]
  },
  {
   "cell_type": "code",
   "execution_count": 2,
   "metadata": {},
   "outputs": [
    {
     "name": "stdout",
     "output_type": "stream",
     "text": [
      "2024-06-22 15:56:38,012 INFO sqlalchemy.engine.Engine BEGIN (implicit)\n",
      "2024-06-22 15:56:38,072 INFO sqlalchemy.engine.Engine SELECT person.id AS person_id, person.name AS person_name, person.size AS person_size \n",
      "FROM person\n",
      "2024-06-22 15:56:38,087 INFO sqlalchemy.engine.Engine [generated in 0.01572s] ()\n",
      "id:1 name:name_a size:10.5\n",
      "id:2 name:name_b size:None\n",
      "id:3 name:c_update size:3.14\n",
      "id:100 name:name_z size:99.9\n"
     ]
    }
   ],
   "source": [
    "engine = create_engine('sqlite:///test_db', echo=True)\n",
    "session = Session(engine)\n",
    "persons = session.query(Person).all()\n",
    "for person in persons:\n",
    "    print(f'id:{person.id} name:{person.name} size:{person.size}')\n"
   ]
  },
  {
   "cell_type": "code",
   "execution_count": 4,
   "metadata": {},
   "outputs": [
    {
     "name": "stdout",
     "output_type": "stream",
     "text": [
      "2024-06-22 15:57:16,925 INFO sqlalchemy.engine.Engine INSERT INTO person (id, name, size) VALUES (?, ?, ?)\n",
      "2024-06-22 15:57:16,926 INFO sqlalchemy.engine.Engine [generated in 0.00119s] (4, 'from_model', 100.0)\n",
      "2024-06-22 15:57:16,931 INFO sqlalchemy.engine.Engine COMMIT\n",
      "2024-06-22 15:57:16,967 INFO sqlalchemy.engine.Engine BEGIN (implicit)\n",
      "2024-06-22 15:57:16,970 INFO sqlalchemy.engine.Engine SELECT person.id AS person_id, person.name AS person_name, person.size AS person_size \n",
      "FROM person\n",
      "2024-06-22 15:57:16,972 INFO sqlalchemy.engine.Engine [cached since 38.9s ago] ()\n",
      "{'_sa_instance_state': <sqlalchemy.orm.state.InstanceState object at 0x7f1856ef1750>, 'id': 1, 'name': 'name_a', 'size': 10.5}\n",
      "{'_sa_instance_state': <sqlalchemy.orm.state.InstanceState object at 0x7f1856ef1600>, 'id': 2, 'name': 'name_b', 'size': None}\n",
      "{'_sa_instance_state': <sqlalchemy.orm.state.InstanceState object at 0x7f1856ef1810>, 'id': 3, 'name': 'c_update', 'size': 3.14}\n",
      "{'_sa_instance_state': <sqlalchemy.orm.state.InstanceState object at 0x7f1856b83e50>, 'id': 4, 'name': 'from_model', 'size': 100.0}\n",
      "{'_sa_instance_state': <sqlalchemy.orm.state.InstanceState object at 0x7f1856ef18a0>, 'id': 100, 'name': 'name_z', 'size': 99.9}\n"
     ]
    }
   ],
   "source": [
    "new_persion = Person(id=4, name='from_model', size=100)\n",
    "session.add(new_persion)\n",
    "session.commit()\n",
    "persons = session.query(Person).all()\n",
    "for person in persons:\n",
    "    print(person.__dict__)\n"
   ]
  },
  {
   "cell_type": "code",
   "execution_count": 5,
   "metadata": {},
   "outputs": [
    {
     "name": "stdout",
     "output_type": "stream",
     "text": [
      "2024-06-22 15:57:50,553 INFO sqlalchemy.engine.Engine SELECT person.id AS person_id, person.name AS person_name, person.size AS person_size \n",
      "FROM person \n",
      "WHERE person.id = ?\n",
      " LIMIT ? OFFSET ?\n",
      "2024-06-22 15:57:50,555 INFO sqlalchemy.engine.Engine [generated in 0.00171s] (4, 1, 0)\n",
      "2024-06-22 15:57:50,558 INFO sqlalchemy.engine.Engine UPDATE person SET size=? WHERE person.id = ?\n",
      "2024-06-22 15:57:50,569 INFO sqlalchemy.engine.Engine [generated in 0.01092s] (2.236, 4)\n",
      "2024-06-22 15:57:50,571 INFO sqlalchemy.engine.Engine COMMIT\n",
      "2024-06-22 15:57:50,716 INFO sqlalchemy.engine.Engine BEGIN (implicit)\n",
      "2024-06-22 15:57:50,719 INFO sqlalchemy.engine.Engine DELETE FROM person WHERE person.size > ?\n",
      "2024-06-22 15:57:50,720 INFO sqlalchemy.engine.Engine [generated in 0.00147s] (10,)\n",
      "2024-06-22 15:57:50,722 INFO sqlalchemy.engine.Engine COMMIT\n"
     ]
    }
   ],
   "source": [
    "person4 = session.query(Person).filter(Person.id==4).first()\n",
    "person4.size = 2.236\n",
    "session.commit()\n",
    "session.query(Person).filter(Person.size>10).delete()\n",
    "session.commit()\n",
    "\n"
   ]
  },
  {
   "cell_type": "code",
   "execution_count": 6,
   "metadata": {},
   "outputs": [
    {
     "name": "stdout",
     "output_type": "stream",
     "text": [
      "2024-06-22 15:58:14,564 INFO sqlalchemy.engine.Engine BEGIN (implicit)\n",
      "2024-06-22 15:58:14,565 INFO sqlalchemy.engine.Engine SELECT * FROM person WHERE id = ?\n",
      "2024-06-22 15:58:14,566 INFO sqlalchemy.engine.Engine [generated in 0.00101s] (4,)\n",
      "(4, 'from_model', 2.236)\n",
      "2024-06-22 15:58:14,577 INFO sqlalchemy.engine.Engine ROLLBACK\n"
     ]
    }
   ],
   "source": [
    "result_list = session.execute('SELECT * FROM person WHERE id = :id', {\"id\":4}) \n",
    "for result in result_list:\n",
    "    print(result)\n",
    "\n",
    "session.close()\n",
    "\n"
   ]
  },
  {
   "cell_type": "code",
   "execution_count": 7,
   "metadata": {},
   "outputs": [],
   "source": [
    "from test_model import Human\n",
    "from sqlalchemy import create_engine, update, delete\n",
    "from sqlalchemy.orm import sessionmaker\n",
    "from sqlalchemy.exc import SQLAlchemyError\n",
    "engine = create_engine('sqlite:///test_db', echo=True)\n",
    "Session = sessionmaker(bind=engine)\n",
    "session = Session()"
   ]
  },
  {
   "cell_type": "code",
   "execution_count": 8,
   "metadata": {},
   "outputs": [
    {
     "name": "stdout",
     "output_type": "stream",
     "text": [
      "2024-06-22 16:26:05,553 INFO sqlalchemy.engine.Engine BEGIN (implicit)\n",
      "2024-06-22 16:26:05,556 INFO sqlalchemy.engine.Engine SELECT human.id AS human_id, human.name AS human_name, human.height AS human_height, human.weight AS human_weight \n",
      "FROM human\n",
      "2024-06-22 16:26:05,559 INFO sqlalchemy.engine.Engine [generated in 0.00283s] ()\n",
      "ID: 2, Name: Bob, Height: 180.2, Weight: None\n",
      "ID: 3, Name: Carol, Height: None, Weight: 55.0\n",
      "2024-06-22 16:26:05,566 INFO sqlalchemy.engine.Engine ROLLBACK\n"
     ]
    }
   ],
   "source": [
    "try:\n",
    "    humans = session.query(Human).all()\n",
    "    for human in humans:\n",
    "        print(f\"ID: {human.id}, Name: {human.name}, Height: {human.height}, Weight: {human.weight}\")\n",
    "\n",
    "except SQLAlchemyError as e:\n",
    "    print(f\"SQLAlchemyエラー: {e}\")\n",
    "\n",
    "finally:\n",
    "    session.close()"
   ]
  },
  {
   "cell_type": "code",
   "execution_count": 9,
   "metadata": {},
   "outputs": [
    {
     "name": "stdout",
     "output_type": "stream",
     "text": [
      "2024-06-22 16:26:18,947 INFO sqlalchemy.engine.Engine BEGIN (implicit)\n",
      "2024-06-22 16:26:18,959 INFO sqlalchemy.engine.Engine INSERT INTO human (name, height, weight) VALUES (?, ?, ?)\n",
      "2024-06-22 16:26:18,961 INFO sqlalchemy.engine.Engine [generated in 0.00123s] ('New Person', 170.5, 65.2)\n",
      "2024-06-22 16:26:18,965 INFO sqlalchemy.engine.Engine COMMIT\n",
      "新しいレコードを追加しました。\n"
     ]
    }
   ],
   "source": [
    "try:\n",
    "    new_human = Human(name='New Person', height=170.5, weight=65.2)\n",
    "    session.add(new_human)\n",
    "    session.commit()\n",
    "    print(\"新しいレコードを追加しました。\")\n",
    "\n",
    "except SQLAlchemyError as e:\n",
    "    print(f\"SQLAlchemyエラー: {e}\")\n",
    "    session.rollback()\n",
    "\n",
    "finally:\n",
    "    session.close()\n"
   ]
  },
  {
   "cell_type": "code",
   "execution_count": 10,
   "metadata": {},
   "outputs": [
    {
     "name": "stdout",
     "output_type": "stream",
     "text": [
      "2024-06-22 16:26:51,434 INFO sqlalchemy.engine.Engine BEGIN (implicit)\n",
      "2024-06-22 16:26:51,438 INFO sqlalchemy.engine.Engine SELECT human.id \n",
      "FROM human \n",
      "WHERE human.height = ?\n",
      "2024-06-22 16:26:51,440 INFO sqlalchemy.engine.Engine [generated in 0.00196s] (180.0,)\n",
      "2024-06-22 16:26:51,631 INFO sqlalchemy.engine.Engine UPDATE human SET name=? WHERE human.height = ?\n",
      "2024-06-22 16:26:51,637 INFO sqlalchemy.engine.Engine [generated in 0.00585s] ('Updated Name', 180.0)\n",
      "2024-06-22 16:26:51,650 INFO sqlalchemy.engine.Engine COMMIT\n",
      "heightが180.0のレコードを更新しました。\n"
     ]
    }
   ],
   "source": [
    "try:\n",
    "    session.query(Human).filter(Human.height == 180.0).update({Human.name: 'Updated Name'}, synchronize_session='fetch')\n",
    "    session.commit()\n",
    "    print(\"heightが180.0のレコードを更新しました。\")\n",
    "\n",
    "except SQLAlchemyError as e:\n",
    "    print(f\"SQLAlchemyエラー: {e}\")\n",
    "    session.rollback()\n",
    "\n",
    "finally:\n",
    "    session.close()"
   ]
  },
  {
   "cell_type": "code",
   "execution_count": 11,
   "metadata": {},
   "outputs": [
    {
     "name": "stdout",
     "output_type": "stream",
     "text": [
      "2024-06-22 16:26:53,581 INFO sqlalchemy.engine.Engine BEGIN (implicit)\n",
      "2024-06-22 16:26:53,584 INFO sqlalchemy.engine.Engine DELETE FROM human WHERE human.weight = ?\n",
      "2024-06-22 16:26:53,585 INFO sqlalchemy.engine.Engine [generated in 0.00092s] (55.0,)\n",
      "2024-06-22 16:26:53,587 INFO sqlalchemy.engine.Engine COMMIT\n",
      "weightが55.0のレコードを削除しました。\n"
     ]
    }
   ],
   "source": [
    "try:\n",
    "    session.query(Human).filter(Human.weight == 55.0).delete()\n",
    "    session.commit()\n",
    "    print(\"weightが55.0のレコードを削除しました。\")\n",
    "\n",
    "except SQLAlchemyError as e:\n",
    "    print(f\"SQLAlchemyエラー: {e}\")\n",
    "    session.rollback()\n",
    "\n",
    "finally:\n",
    "    session.close()"
   ]
  }
 ],
 "metadata": {
  "kernelspec": {
   "display_name": "venv",
   "language": "python",
   "name": "python3"
  },
  "language_info": {
   "codemirror_mode": {
    "name": "ipython",
    "version": 3
   },
   "file_extension": ".py",
   "mimetype": "text/x-python",
   "name": "python",
   "nbconvert_exporter": "python",
   "pygments_lexer": "ipython3",
   "version": "3.10.6"
  }
 },
 "nbformat": 4,
 "nbformat_minor": 2
}
